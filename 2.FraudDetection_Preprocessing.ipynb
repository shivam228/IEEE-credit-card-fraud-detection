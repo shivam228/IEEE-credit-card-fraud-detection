{
 "cells": [
  {
   "cell_type": "code",
   "execution_count": 1,
   "metadata": {},
   "outputs": [],
   "source": [
    "import numpy as np\n",
    "import pandas as pd\n",
    "import seaborn as sns\n",
    "import matplotlib.pyplot as plt\n",
    "from lightgbm import LGBMClassifier\n",
    "import lightgbm as lgb\n",
    "from sklearn.metrics import roc_curve\n",
    "from sklearn.metrics import roc_auc_score\n",
    "from matplotlib import pyplot"
   ]
  },
  {
   "cell_type": "code",
   "execution_count": 2,
   "metadata": {},
   "outputs": [
    {
     "name": "stderr",
     "output_type": "stream",
     "text": [
      "C:\\Users\\shivam\\anaconda\\lib\\site-packages\\IPython\\core\\interactiveshell.py:3071: DtypeWarning: Columns (285,288,289,296,300,301,302,303,304,306,307,308,309,310,311,312,313) have mixed types.Specify dtype option on import or set low_memory=False.\n",
      "  has_raised = await self.run_ast_nodes(code_ast.body, cell_name,\n",
      "C:\\Users\\shivam\\anaconda\\lib\\site-packages\\IPython\\core\\interactiveshell.py:3071: DtypeWarning: Columns (284,287,288,295,299,300,301,302,303,305,306,307,308,309,310,311,312) have mixed types.Specify dtype option on import or set low_memory=False.\n",
      "  has_raised = await self.run_ast_nodes(code_ast.body, cell_name,\n"
     ]
    }
   ],
   "source": [
    "# importing data after performing EDA and Feature Engineering\n",
    "train = pd.read_csv(\"train1.csv\")\n",
    "test = pd.read_csv(\"test1.csv\")"
   ]
  },
  {
   "cell_type": "code",
   "execution_count": 3,
   "metadata": {},
   "outputs": [
    {
     "name": "stdout",
     "output_type": "stream",
     "text": [
      "(354324, 320)\n",
      "(236216, 319)\n"
     ]
    }
   ],
   "source": [
    "print(train.shape)\n",
    "print(test.shape)"
   ]
  },
  {
   "cell_type": "code",
   "execution_count": null,
   "metadata": {},
   "outputs": [],
   "source": [
    "# From Eda we have seen that there are outliers in some of columns"
   ]
  },
  {
   "cell_type": "code",
   "execution_count": 4,
   "metadata": {},
   "outputs": [],
   "source": [
    "##replacing outliers with median"
   ]
  },
  {
   "cell_type": "code",
   "execution_count": 5,
   "metadata": {},
   "outputs": [],
   "source": [
    "#fuction to replace outliers with median\n",
    "def replaceoutliers(x,value): \n",
    "    mean = float(train[x].median())\n",
    "    train[x] = np.where(train[x] > value, mean, train[x])\n",
    "    mean = float(test[x].median())\n",
    "    test[x] = np.where(test[x] > value, mean, test[x])  "
   ]
  },
  {
   "cell_type": "code",
   "execution_count": 6,
   "metadata": {},
   "outputs": [],
   "source": [
    "#fuction to replace outliers with median\n",
    "def replaceoutliers_less(x,value): \n",
    "    mean = float(train[x].median())\n",
    "    train[x] = np.where(train[x] < value, mean, train[x])\n",
    "    mean = float(test[x].median())\n",
    "    test[x] = np.where(test[x] < value, mean, test[x]) "
   ]
  },
  {
   "cell_type": "code",
   "execution_count": 7,
   "metadata": {},
   "outputs": [],
   "source": [
    "# for c columns\n",
    "replaceoutliers('C1',2200)\n",
    "replaceoutliers('C2',3000)\n",
    "replaceoutliers('C4',1500)\n",
    "replaceoutliers('C6',1400)\n",
    "replaceoutliers('C7',1400)\n",
    "replaceoutliers('C8',2000)\n",
    "replaceoutliers('C10',2000)\n",
    "replaceoutliers('C11',2000)\n",
    "replaceoutliers('C12',900)"
   ]
  },
  {
   "cell_type": "code",
   "execution_count": 8,
   "metadata": {},
   "outputs": [],
   "source": [
    "# for d columns\n",
    "replaceoutliers_less('D4',0)\n",
    "replaceoutliers_less('D6',0)\n",
    "replaceoutliers_less('D11',0)\n",
    "replaceoutliers_less('D12',0)\n",
    "replaceoutliers_less('D14',0)\n",
    "replaceoutliers_less('D15',0)"
   ]
  },
  {
   "cell_type": "code",
   "execution_count": 9,
   "metadata": {},
   "outputs": [],
   "source": [
    "## NULL value Percentage"
   ]
  },
  {
   "cell_type": "code",
   "execution_count": 10,
   "metadata": {},
   "outputs": [
    {
     "data": {
      "text/html": [
       "<div>\n",
       "<style scoped>\n",
       "    .dataframe tbody tr th:only-of-type {\n",
       "        vertical-align: middle;\n",
       "    }\n",
       "\n",
       "    .dataframe tbody tr th {\n",
       "        vertical-align: top;\n",
       "    }\n",
       "\n",
       "    .dataframe thead th {\n",
       "        text-align: right;\n",
       "    }\n",
       "</style>\n",
       "<table border=\"1\" class=\"dataframe\">\n",
       "  <thead>\n",
       "    <tr style=\"text-align: right;\">\n",
       "      <th></th>\n",
       "      <th>Total</th>\n",
       "      <th>Percent</th>\n",
       "    </tr>\n",
       "  </thead>\n",
       "  <tbody>\n",
       "    <tr>\n",
       "      <th>id_24</th>\n",
       "      <td>351487</td>\n",
       "      <td>99.199320</td>\n",
       "    </tr>\n",
       "    <tr>\n",
       "      <th>id_25</th>\n",
       "      <td>351248</td>\n",
       "      <td>99.131868</td>\n",
       "    </tr>\n",
       "    <tr>\n",
       "      <th>id_07</th>\n",
       "      <td>351237</td>\n",
       "      <td>99.128764</td>\n",
       "    </tr>\n",
       "    <tr>\n",
       "      <th>id_08</th>\n",
       "      <td>351237</td>\n",
       "      <td>99.128764</td>\n",
       "    </tr>\n",
       "    <tr>\n",
       "      <th>id_26</th>\n",
       "      <td>351232</td>\n",
       "      <td>99.127352</td>\n",
       "    </tr>\n",
       "    <tr>\n",
       "      <th>id_21</th>\n",
       "      <td>351232</td>\n",
       "      <td>99.127352</td>\n",
       "    </tr>\n",
       "    <tr>\n",
       "      <th>id_27</th>\n",
       "      <td>351228</td>\n",
       "      <td>99.126223</td>\n",
       "    </tr>\n",
       "    <tr>\n",
       "      <th>id_22</th>\n",
       "      <td>351228</td>\n",
       "      <td>99.126223</td>\n",
       "    </tr>\n",
       "    <tr>\n",
       "      <th>id_23</th>\n",
       "      <td>351228</td>\n",
       "      <td>99.126223</td>\n",
       "    </tr>\n",
       "    <tr>\n",
       "      <th>Logdist2</th>\n",
       "      <td>331717</td>\n",
       "      <td>93.619681</td>\n",
       "    </tr>\n",
       "    <tr>\n",
       "      <th>D7</th>\n",
       "      <td>330931</td>\n",
       "      <td>93.397851</td>\n",
       "    </tr>\n",
       "    <tr>\n",
       "      <th>id_18</th>\n",
       "      <td>327049</td>\n",
       "      <td>92.302243</td>\n",
       "    </tr>\n",
       "    <tr>\n",
       "      <th>D13</th>\n",
       "      <td>317080</td>\n",
       "      <td>89.488717</td>\n",
       "    </tr>\n",
       "    <tr>\n",
       "      <th>D14</th>\n",
       "      <td>316849</td>\n",
       "      <td>89.423522</td>\n",
       "    </tr>\n",
       "    <tr>\n",
       "      <th>D12</th>\n",
       "      <td>315477</td>\n",
       "      <td>89.036306</td>\n",
       "    </tr>\n",
       "    <tr>\n",
       "      <th>id_03</th>\n",
       "      <td>314400</td>\n",
       "      <td>88.732347</td>\n",
       "    </tr>\n",
       "    <tr>\n",
       "      <th>id_04</th>\n",
       "      <td>314400</td>\n",
       "      <td>88.732347</td>\n",
       "    </tr>\n",
       "    <tr>\n",
       "      <th>D6</th>\n",
       "      <td>310333</td>\n",
       "      <td>87.584527</td>\n",
       "    </tr>\n",
       "    <tr>\n",
       "      <th>id_33</th>\n",
       "      <td>310005</td>\n",
       "      <td>87.491957</td>\n",
       "    </tr>\n",
       "    <tr>\n",
       "      <th>D8</th>\n",
       "      <td>309214</td>\n",
       "      <td>87.268715</td>\n",
       "    </tr>\n",
       "    <tr>\n",
       "      <th>D9</th>\n",
       "      <td>309214</td>\n",
       "      <td>87.268715</td>\n",
       "    </tr>\n",
       "    <tr>\n",
       "      <th>id_09</th>\n",
       "      <td>309214</td>\n",
       "      <td>87.268715</td>\n",
       "    </tr>\n",
       "    <tr>\n",
       "      <th>id_10</th>\n",
       "      <td>309214</td>\n",
       "      <td>87.268715</td>\n",
       "    </tr>\n",
       "    <tr>\n",
       "      <th>id_30</th>\n",
       "      <td>307453</td>\n",
       "      <td>86.771712</td>\n",
       "    </tr>\n",
       "    <tr>\n",
       "      <th>id_32</th>\n",
       "      <td>307441</td>\n",
       "      <td>86.768325</td>\n",
       "    </tr>\n",
       "    <tr>\n",
       "      <th>id_34</th>\n",
       "      <td>307327</td>\n",
       "      <td>86.736151</td>\n",
       "    </tr>\n",
       "    <tr>\n",
       "      <th>id_14</th>\n",
       "      <td>305950</td>\n",
       "      <td>86.347524</td>\n",
       "    </tr>\n",
       "    <tr>\n",
       "      <th>V140</th>\n",
       "      <td>304836</td>\n",
       "      <td>86.033122</td>\n",
       "    </tr>\n",
       "    <tr>\n",
       "      <th>V161</th>\n",
       "      <td>304836</td>\n",
       "      <td>86.033122</td>\n",
       "    </tr>\n",
       "    <tr>\n",
       "      <th>V156</th>\n",
       "      <td>304836</td>\n",
       "      <td>86.033122</td>\n",
       "    </tr>\n",
       "  </tbody>\n",
       "</table>\n",
       "</div>"
      ],
      "text/plain": [
       "           Total    Percent\n",
       "id_24     351487  99.199320\n",
       "id_25     351248  99.131868\n",
       "id_07     351237  99.128764\n",
       "id_08     351237  99.128764\n",
       "id_26     351232  99.127352\n",
       "id_21     351232  99.127352\n",
       "id_27     351228  99.126223\n",
       "id_22     351228  99.126223\n",
       "id_23     351228  99.126223\n",
       "Logdist2  331717  93.619681\n",
       "D7        330931  93.397851\n",
       "id_18     327049  92.302243\n",
       "D13       317080  89.488717\n",
       "D14       316849  89.423522\n",
       "D12       315477  89.036306\n",
       "id_03     314400  88.732347\n",
       "id_04     314400  88.732347\n",
       "D6        310333  87.584527\n",
       "id_33     310005  87.491957\n",
       "D8        309214  87.268715\n",
       "D9        309214  87.268715\n",
       "id_09     309214  87.268715\n",
       "id_10     309214  87.268715\n",
       "id_30     307453  86.771712\n",
       "id_32     307441  86.768325\n",
       "id_34     307327  86.736151\n",
       "id_14     305950  86.347524\n",
       "V140      304836  86.033122\n",
       "V161      304836  86.033122\n",
       "V156      304836  86.033122"
      ]
     },
     "execution_count": 10,
     "metadata": {},
     "output_type": "execute_result"
    }
   ],
   "source": [
    "# calcuating Null value percenatge\n",
    "total = train.isnull().sum().sort_values(ascending = False)\n",
    "percent = (train.isnull().sum()/train.isnull().count()*100).sort_values(ascending = False)\n",
    "missing_train_data  = pd.concat([total, percent], axis=1, keys=['Total', 'Percent'])\n",
    "missing_train_data.head(30)"
   ]
  },
  {
   "cell_type": "code",
   "execution_count": 11,
   "metadata": {},
   "outputs": [],
   "source": [
    "# replace high percentage null value features which have less interseting results when performed EDA\n",
    "train.drop(['id_21','id_22','id_23','id_24','id_25','id_26','id_27','id_07','id_08','Logdist2','D7'],axis =1,inplace = True)\n",
    "test.drop(['id_21','id_22','id_23','id_24','id_25','id_26','id_27','id_07','id_08','Logdist2','D7'],axis =1,inplace = True)"
   ]
  },
  {
   "cell_type": "code",
   "execution_count": 12,
   "metadata": {},
   "outputs": [],
   "source": [
    "## Checking Skewnwss "
   ]
  },
  {
   "cell_type": "code",
   "execution_count": 13,
   "metadata": {},
   "outputs": [
    {
     "data": {
      "text/plain": [
       "V311                 303.457524\n",
       "V129                 243.936487\n",
       "V309                 229.943855\n",
       "V206                 180.274756\n",
       "V319                 168.038493\n",
       "V266                 157.560669\n",
       "V334                 140.929155\n",
       "V131                 111.946856\n",
       "V227                 100.807054\n",
       "V321                 100.624658\n",
       "V214                  97.554981\n",
       "V312                  93.077301\n",
       "V276                  90.251993\n",
       "V268                  87.678864\n",
       "C3                    85.326593\n",
       "V245                  77.156409\n",
       "V278                  71.444561\n",
       "V335                  61.290265\n",
       "V136                  55.095104\n",
       "V221                  53.110766\n",
       "V277                  52.515628\n",
       "V320                  52.028807\n",
       "V292                  50.636890\n",
       "V291                  50.065154\n",
       "V222                  45.679212\n",
       "V267                  44.554813\n",
       "V256                  41.422749\n",
       "V254                  40.554981\n",
       "V216                  39.982803\n",
       "C12                   39.281428\n",
       "V270                  32.929719\n",
       "V161                  32.868640\n",
       "C7                    31.864512\n",
       "V224                  31.747706\n",
       "V265                  31.333545\n",
       "V130                  31.205446\n",
       "V111                  31.113424\n",
       "V101                  30.793020\n",
       "V293                  30.749870\n",
       "V132                  30.437620\n",
       "V279                  30.404282\n",
       "V95                   30.401892\n",
       "V229                  30.333800\n",
       "V316                  30.294259\n",
       "V44                   30.101019\n",
       "V126                  29.959490\n",
       "V272                  29.854154\n",
       "V306                  29.483498\n",
       "C10                   27.998935\n",
       "V225                  27.912321\n",
       "V102                  27.283451\n",
       "V133                  27.169015\n",
       "C8                    27.066482\n",
       "V271                  26.903384\n",
       "V264                  26.647560\n",
       "V103                  26.359536\n",
       "V134                  26.336413\n",
       "V96                   26.314985\n",
       "V162                  26.065939\n",
       "V243                  26.031089\n",
       "V127                  26.010613\n",
       "V318                  25.823641\n",
       "V295                  25.659526\n",
       "V97                   25.648336\n",
       "V128                  25.484344\n",
       "V226                  25.364471\n",
       "V208                  25.359691\n",
       "V280                  25.098060\n",
       "V308                  24.892318\n",
       "V317                  24.856300\n",
       "V56                   24.222009\n",
       "V273                  24.085596\n",
       "V45                   24.073119\n",
       "V294                  24.054928\n",
       "V37                   24.000688\n",
       "V233                  23.961886\n",
       "V307                  23.948464\n",
       "V310                  23.448249\n",
       "V232                  23.283845\n",
       "V219                  22.512688\n",
       "V138                  22.087337\n",
       "C4                    21.463228\n",
       "V207                  21.261423\n",
       "V105                  21.138536\n",
       "V274                  20.491710\n",
       "V261                  20.407078\n",
       "V218                  20.139550\n",
       "V298                  20.094156\n",
       "V166                  19.657562\n",
       "V172                  19.559734\n",
       "V296                  19.091639\n",
       "V38                   18.756112\n",
       "C2                    18.674340\n",
       "C11                   18.237398\n",
       "V86                   17.804742\n",
       "C1                    17.246416\n",
       "V338                  17.057905\n",
       "V200                  16.946651\n",
       "V258                  16.656427\n",
       "C6                    16.651478\n",
       "C14                   16.415233\n",
       "V201                  15.785054\n",
       "V198                  15.599215\n",
       "V187                  15.570355\n",
       "V87                   15.312855\n",
       "V78                   15.216114\n",
       "V202                  14.737654\n",
       "V210                  14.663763\n",
       "V190                  14.497533\n",
       "V313                  14.178525\n",
       "V188                  13.844601\n",
       "V257                  13.765047\n",
       "V77                   13.690423\n",
       "V178                  13.468698\n",
       "V215                  13.343010\n",
       "V297                  13.285637\n",
       "V179                  13.234936\n",
       "V283                  13.198718\n",
       "V213                  13.110724\n",
       "V114                  13.109843\n",
       "V212                  12.763907\n",
       "V285                  12.421908\n",
       "V23                   12.277267\n",
       "V189                  12.249287\n",
       "V315                  12.209640\n",
       "V209                  11.923620\n",
       "V204                  11.805012\n",
       "V244                  11.382254\n",
       "V99                   11.320092\n",
       "V331                  11.226515\n",
       "V164                  11.123427\n",
       "V242                  11.051989\n",
       "V203                  10.651200\n",
       "V314                  10.451400\n",
       "V55                   10.410388\n",
       "V301                  10.351819\n",
       "V220                  10.343736\n",
       "V146                  10.100625\n",
       "V239                  10.054673\n",
       "V223                  10.034298\n",
       "V281                  10.015300\n",
       "V147                   9.960062\n",
       "V332                   9.908127\n",
       "V323                   9.880985\n",
       "V262                   9.795653\n",
       "V109                   9.790055\n",
       "V170                   9.300875\n",
       "V24                    9.022188\n",
       "V8                     9.015552\n",
       "C13                    8.966401\n",
       "V47                    8.942073\n",
       "V287                   8.916452\n",
       "V180                   8.744963\n",
       "V169                   8.621561\n",
       "V156                   8.596301\n",
       "V46                    7.861935\n",
       "V184                   7.280968\n",
       "V9                     7.176035\n",
       "V6                     7.027849\n",
       "V2                     6.976760\n",
       "V149                   6.907424\n",
       "V165                   6.855337\n",
       "V171                   6.752734\n",
       "V115                   6.656556\n",
       "V40                    6.546662\n",
       "V158                   6.535816\n",
       "V234                   6.357847\n",
       "V124                   6.151378\n",
       "V139                   6.059289\n",
       "V81                    6.035919\n",
       "V39                    5.996383\n",
       "C5                     5.778027\n",
       "V80                    5.758478\n",
       "V140                   5.676332\n",
       "C9                     5.664268\n",
       "V7                     5.574640\n",
       "V3                     5.516421\n",
       "V284                   5.488708\n",
       "D13                    5.437053\n",
       "V303                   5.186468\n",
       "isFraud                5.047362\n",
       "V60                    4.898621\n",
       "D3                     4.537546\n",
       "V59                    4.174694\n",
       "V197                   4.052630\n",
       "V79                    3.945936\n",
       "V58                    3.855756\n",
       "V282                   3.831357\n",
       "V64                    3.806841\n",
       "V85                    3.733089\n",
       "V251                   3.716664\n",
       "V289                   3.503848\n",
       "V174                   3.451564\n",
       "D5                     3.408306\n",
       "V43                    3.082397\n",
       "V159                   3.058825\n",
       "V52                    3.038079\n",
       "V145                   3.022070\n",
       "V160                   3.000599\n",
       "V34                    2.937424\n",
       "V150                   2.855991\n",
       "V63                    2.834430\n",
       "V74                    2.810042\n",
       "id_14                  2.707511\n",
       "V73                    2.630975\n",
       "V26                    2.611607\n",
       "V15                    2.601105\n",
       "D14                    2.590635\n",
       "V288                   2.575401\n",
       "id_05                  2.480000\n",
       "D12                    2.475206\n",
       "V42                    2.447533\n",
       "V51                    2.408839\n",
       "V33                    2.316919\n",
       "D6                     2.262930\n",
       "D8                     2.226623\n",
       "V152                   2.211633\n",
       "id_18                  2.119257\n",
       "V94                    2.109147\n",
       "card3                  2.037900\n",
       "id_02                  1.832475\n",
       "D1                     1.807807\n",
       "V260                   1.716529\n",
       "D10                    1.392013\n",
       "V30                    1.290605\n",
       "V67                    1.285879\n",
       "V91                    1.250188\n",
       "V70                    1.241428\n",
       "D4                     1.179351\n",
       "V49                    1.129277\n",
       "D11                    1.052657\n",
       "D2                     1.016871\n",
       "Logdist1               1.012154\n",
       "D15                    0.960333\n",
       "V69                    0.801074\n",
       "V29                    0.777589\n",
       "V48                    0.773313\n",
       "V90                    0.748067\n",
       "id_32                  0.740419\n",
       "V62                    0.648546\n",
       "V83                    0.604853\n",
       "V10                    0.422387\n",
       "LogTransactionAmt      0.412326\n",
       "addr1                  0.371581\n",
       "V20                    0.325857\n",
       "V5                     0.265523\n",
       "id_19                  0.200143\n",
       "V36                    0.181089\n",
       "V76                    0.178688\n",
       "id_17                  0.139408\n",
       "TransactionDT          0.132720\n",
       "V54                    0.101476\n",
       "V13                    0.090477\n",
       "V35                    0.037739\n",
       "V75                    0.018146\n",
       "TransactionID          0.001637\n",
       "card1                 -0.037128\n",
       "V12                   -0.066286\n",
       "V53                   -0.085361\n",
       "card2                 -0.202107\n",
       "id_20                 -0.314688\n",
       "V4                    -0.403137\n",
       "D9                    -0.582888\n",
       "V61                   -0.583262\n",
       "hour                  -0.695561\n",
       "V82                   -0.725067\n",
       "V19                   -0.866438\n",
       "V66                   -0.884875\n",
       "card5                 -1.224360\n",
       "id_13                 -1.253877\n",
       "id_03                 -1.755430\n",
       "V25                   -2.734904\n",
       "id_01                 -3.660485\n",
       "id_06                 -3.894101\n",
       "id_11                 -4.807214\n",
       "id_09                 -5.080909\n",
       "id_04                -14.450091\n",
       "addr2                -15.574823\n",
       "id_10                -19.410465\n",
       "V65                  -53.860059\n",
       "dtype: float64"
      ]
     },
     "execution_count": 13,
     "metadata": {},
     "output_type": "execute_result"
    }
   ],
   "source": [
    "#sort skewness value in decreasing order\n",
    "pd.set_option('display.max_columns', None)\n",
    "pd.set_option('display.max_rows', None)\n",
    "df = train.skew(axis = 0, skipna = True)\n",
    "df.sort_values(ascending=False)"
   ]
  },
  {
   "cell_type": "code",
   "execution_count": 14,
   "metadata": {},
   "outputs": [],
   "source": [
    "train.drop(['V311','V129','V309','V206','V319','V266','V334','V131','V227','V321'],axis =1,inplace = True)\n",
    "test.drop(['V311','V129','V309','V206','V319','V266','V334','V131','V227','V321'],axis =1,inplace = True)"
   ]
  },
  {
   "cell_type": "code",
   "execution_count": 15,
   "metadata": {},
   "outputs": [
    {
     "data": {
      "text/plain": [
       "(354324, 299)"
      ]
     },
     "execution_count": 15,
     "metadata": {},
     "output_type": "execute_result"
    }
   ],
   "source": [
    "train.shape"
   ]
  },
  {
   "cell_type": "code",
   "execution_count": 16,
   "metadata": {},
   "outputs": [],
   "source": [
    "## Deleting highly correlated features"
   ]
  },
  {
   "cell_type": "code",
   "execution_count": 17,
   "metadata": {},
   "outputs": [],
   "source": [
    "# dropping correlated d columns\n",
    "columns = ['D2','D6','D12']\n",
    "train.drop(columns,inplace = True,axis =1)\n",
    "test.drop(columns,inplace = True,axis =1)"
   ]
  },
  {
   "cell_type": "code",
   "execution_count": 18,
   "metadata": {},
   "outputs": [],
   "source": [
    "#dropping correlated c columns\n",
    "columns = ['C2','C6','C11','C10']\n",
    "train.drop(columns,inplace = True,axis =1)\n",
    "test.drop(columns,inplace = True,axis =1)"
   ]
  },
  {
   "cell_type": "code",
   "execution_count": 19,
   "metadata": {},
   "outputs": [],
   "source": [
    "# less relevant according to EDA\n",
    "del train['DeviceInfo']\n",
    "del test['DeviceInfo']"
   ]
  },
  {
   "cell_type": "code",
   "execution_count": 20,
   "metadata": {},
   "outputs": [],
   "source": [
    "## Handling NULL values by repalcing them with mean,median mode"
   ]
  },
  {
   "cell_type": "code",
   "execution_count": 21,
   "metadata": {},
   "outputs": [],
   "source": [
    "for i in train.columns:\n",
    "    if 'M' in i:\n",
    "        train[i].fillna(train[i].mode()[0],inplace=True)"
   ]
  },
  {
   "cell_type": "code",
   "execution_count": 22,
   "metadata": {},
   "outputs": [],
   "source": [
    "for i in test.columns:\n",
    "    if 'M' in i:\n",
    "        test[i].fillna(test[i].mode()[0],inplace=True)"
   ]
  },
  {
   "cell_type": "code",
   "execution_count": 23,
   "metadata": {},
   "outputs": [],
   "source": [
    "for i in train.columns:\n",
    "    if train[i].dtypes==\"float64\":\n",
    "        train[i].fillna(train[i].mean(),inplace=True)"
   ]
  },
  {
   "cell_type": "code",
   "execution_count": 24,
   "metadata": {},
   "outputs": [],
   "source": [
    "for i in test.columns:\n",
    "    if test[i].dtypes==\"float64\":\n",
    "        test[i].fillna(test[i].mean(),inplace=True)"
   ]
  },
  {
   "cell_type": "code",
   "execution_count": 25,
   "metadata": {},
   "outputs": [],
   "source": [
    "train.fillna(train.select_dtypes(include='object').mode().iloc[0], inplace=True)\n",
    "test.fillna(test.select_dtypes(include='object').mode().iloc[0], inplace=True)"
   ]
  },
  {
   "cell_type": "code",
   "execution_count": 26,
   "metadata": {},
   "outputs": [],
   "source": [
    "#Encoding of features using one hot and label--------------"
   ]
  },
  {
   "cell_type": "code",
   "execution_count": 27,
   "metadata": {},
   "outputs": [
    {
     "name": "stdout",
     "output_type": "stream",
     "text": [
      "ProductCD -> 5\n",
      "card4 -> 4\n",
      "card6 -> 2\n",
      "M1 -> 2\n",
      "M2 -> 2\n",
      "M3 -> 2\n",
      "M4 -> 3\n",
      "M5 -> 2\n",
      "M6 -> 2\n",
      "M7 -> 2\n",
      "M8 -> 2\n",
      "M9 -> 2\n",
      "id_12 -> 2\n",
      "id_15 -> 3\n",
      "id_16 -> 2\n",
      "id_28 -> 2\n",
      "id_29 -> 2\n",
      "id_30 -> 75\n",
      "id_31 -> 122\n",
      "id_33 -> 221\n",
      "id_34 -> 4\n",
      "id_35 -> 2\n",
      "id_36 -> 2\n",
      "id_37 -> 2\n",
      "id_38 -> 2\n",
      "DeviceType -> 2\n",
      "P_parent_emaildomain -> 44\n",
      "R_parent_emaildomain -> 45\n"
     ]
    }
   ],
   "source": [
    "objList = train.select_dtypes(include =\"object\")\n",
    "for feat in objList:\n",
    "    print(feat,\"->\",train[feat].nunique())"
   ]
  },
  {
   "cell_type": "code",
   "execution_count": 28,
   "metadata": {},
   "outputs": [
    {
     "name": "stdout",
     "output_type": "stream",
     "text": [
      "ProductCD -> 5\n",
      "card4 -> 4\n",
      "card6 -> 2\n",
      "M1 -> 2\n",
      "M2 -> 2\n",
      "M3 -> 2\n",
      "M4 -> 3\n",
      "M5 -> 2\n",
      "M6 -> 2\n",
      "M7 -> 2\n",
      "M8 -> 2\n",
      "M9 -> 2\n",
      "id_12 -> 2\n",
      "id_15 -> 3\n",
      "id_16 -> 2\n",
      "id_28 -> 2\n",
      "id_29 -> 2\n",
      "id_30 -> 72\n",
      "id_31 -> 121\n",
      "id_33 -> 182\n",
      "id_34 -> 3\n",
      "id_35 -> 2\n",
      "id_36 -> 2\n",
      "id_37 -> 2\n",
      "id_38 -> 2\n",
      "DeviceType -> 2\n",
      "P_parent_emaildomain -> 44\n",
      "R_parent_emaildomain -> 45\n"
     ]
    }
   ],
   "source": [
    "objList = test.select_dtypes(include =\"object\")\n",
    "for feat in objList:\n",
    "    print(feat,\"->\",test[feat].nunique())"
   ]
  },
  {
   "cell_type": "code",
   "execution_count": 29,
   "metadata": {},
   "outputs": [
    {
     "name": "stdout",
     "output_type": "stream",
     "text": [
      "(354324, 291) (236216, 290)\n"
     ]
    }
   ],
   "source": [
    "print(train.shape,test.shape)"
   ]
  },
  {
   "cell_type": "code",
   "execution_count": 30,
   "metadata": {},
   "outputs": [],
   "source": [
    "objList = ['ProductCD','card4','M4']\n",
    "for feat in objList:\n",
    "        dummies = pd.get_dummies(train[[feat]])\n",
    "        train= pd.concat([train, dummies], axis=1)\n",
    "        del(train[feat])\n",
    "        dummies = pd.get_dummies(test[[feat]])\n",
    "        test= pd.concat([test, dummies], axis=1)\n",
    "        del(test[feat])"
   ]
  },
  {
   "cell_type": "code",
   "execution_count": 31,
   "metadata": {},
   "outputs": [
    {
     "name": "stdout",
     "output_type": "stream",
     "text": [
      "(354324, 300) (236216, 299)\n"
     ]
    }
   ],
   "source": [
    "print(train.shape,test.shape)"
   ]
  },
  {
   "cell_type": "code",
   "execution_count": 32,
   "metadata": {},
   "outputs": [],
   "source": [
    "y_train = train['isFraud'].copy()"
   ]
  },
  {
   "cell_type": "code",
   "execution_count": 33,
   "metadata": {},
   "outputs": [],
   "source": [
    "del train['isFraud']"
   ]
  },
  {
   "cell_type": "code",
   "execution_count": 34,
   "metadata": {},
   "outputs": [],
   "source": [
    "# label encoding of categorical features\n",
    "from sklearn import preprocessing\n",
    "for f in train.columns:\n",
    "    if train[f].dtype=='object' or test[f].dtype=='object': \n",
    "        lbl = preprocessing.LabelEncoder()\n",
    "        lbl.fit(list(train[f].values) + list(test[f].values))\n",
    "        train[f] = lbl.transform(list(train[f].values))\n",
    "        test[f] = lbl.transform(list(test[f].values))  "
   ]
  },
  {
   "cell_type": "code",
   "execution_count": 35,
   "metadata": {},
   "outputs": [],
   "source": [
    "train['isFraud'] = y_train"
   ]
  },
  {
   "cell_type": "code",
   "execution_count": 36,
   "metadata": {},
   "outputs": [],
   "source": [
    "#saving files\n",
    "train.to_csv('trainPreprocessed.csv',index=False)\n",
    "test.to_csv('testPreprocessed.csv',index=False)"
   ]
  },
  {
   "cell_type": "code",
   "execution_count": 37,
   "metadata": {},
   "outputs": [],
   "source": [
    "#end------------------------------------"
   ]
  }
 ],
 "metadata": {
  "kernelspec": {
   "display_name": "Python 3",
   "language": "python",
   "name": "python3"
  },
  "language_info": {
   "codemirror_mode": {
    "name": "ipython",
    "version": 3
   },
   "file_extension": ".py",
   "mimetype": "text/x-python",
   "name": "python",
   "nbconvert_exporter": "python",
   "pygments_lexer": "ipython3",
   "version": "3.8.3"
  }
 },
 "nbformat": 4,
 "nbformat_minor": 4
}
