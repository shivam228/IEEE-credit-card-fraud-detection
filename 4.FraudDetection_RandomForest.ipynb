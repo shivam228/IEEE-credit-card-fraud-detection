{
 "cells": [
  {
   "cell_type": "code",
   "execution_count": 44,
   "metadata": {},
   "outputs": [],
   "source": [
    "import numpy as np\n",
    "import pandas as pd\n",
    "import seaborn as sns\n",
    "import matplotlib.pyplot as plt\n",
    "from lightgbm import LGBMClassifier\n",
    "import lightgbm as lgb\n",
    "from sklearn.metrics import roc_curve\n",
    "from sklearn.metrics import roc_auc_score\n",
    "from matplotlib import pyplot\n",
    "from sklearn.ensemble import RandomForestClassifier, forest\n",
    "from sklearn.tree import DecisionTreeClassifier"
   ]
  },
  {
   "cell_type": "code",
   "execution_count": 57,
   "metadata": {},
   "outputs": [],
   "source": [
    "# import precprocessed data\n",
    "train = pd.read_csv(\"trainPreprocessed.csv\")\n",
    "test = pd.read_csv(\"testPreprocessed.csv\")"
   ]
  },
  {
   "cell_type": "code",
   "execution_count": 58,
   "metadata": {},
   "outputs": [
    {
     "name": "stdout",
     "output_type": "stream",
     "text": [
      "(354324, 300) (236216, 299)\n"
     ]
    }
   ],
   "source": [
    "print(train.shape,test.shape)"
   ]
  },
  {
   "cell_type": "code",
   "execution_count": null,
   "metadata": {},
   "outputs": [],
   "source": [
    "##remove transactionID from data as it is a unique feature"
   ]
  },
  {
   "cell_type": "code",
   "execution_count": 59,
   "metadata": {},
   "outputs": [],
   "source": [
    "k = test['TransactionID']"
   ]
  },
  {
   "cell_type": "code",
   "execution_count": 60,
   "metadata": {},
   "outputs": [],
   "source": [
    "del train['TransactionID']\n",
    "del test['TransactionID']"
   ]
  },
  {
   "cell_type": "code",
   "execution_count": 61,
   "metadata": {},
   "outputs": [],
   "source": [
    "y_train = train['isFraud'].copy().values"
   ]
  },
  {
   "cell_type": "code",
   "execution_count": 62,
   "metadata": {},
   "outputs": [],
   "source": [
    "del train['isFraud']"
   ]
  },
  {
   "cell_type": "code",
   "execution_count": 63,
   "metadata": {},
   "outputs": [],
   "source": [
    "X_train = train.copy().values"
   ]
  },
  {
   "cell_type": "code",
   "execution_count": 64,
   "metadata": {},
   "outputs": [],
   "source": [
    "X_test = test.copy().values"
   ]
  },
  {
   "cell_type": "code",
   "execution_count": null,
   "metadata": {},
   "outputs": [],
   "source": [
    "#performing  randomized search cv to find best parameters among grid for model"
   ]
  },
  {
   "cell_type": "code",
   "execution_count": 65,
   "metadata": {},
   "outputs": [],
   "source": [
    "from sklearn.model_selection import RandomizedSearchCV"
   ]
  },
  {
   "cell_type": "code",
   "execution_count": 66,
   "metadata": {},
   "outputs": [],
   "source": [
    "rf = RandomForestClassifier(random_state = 42)"
   ]
  },
  {
   "cell_type": "code",
   "execution_count": 67,
   "metadata": {},
   "outputs": [
    {
     "name": "stdout",
     "output_type": "stream",
     "text": [
      "{'bootstrap': True, 'ccp_alpha': 0.0, 'class_weight': None, 'criterion': 'gini', 'max_depth': None, 'max_features': 'auto', 'max_leaf_nodes': None, 'max_samples': None, 'min_impurity_decrease': 0.0, 'min_impurity_split': None, 'min_samples_leaf': 1, 'min_samples_split': 2, 'min_weight_fraction_leaf': 0.0, 'n_estimators': 100, 'n_jobs': None, 'oob_score': False, 'random_state': 42, 'verbose': 0, 'warm_start': False}\n"
     ]
    }
   ],
   "source": [
    "print(rf.get_params())# check and fill accordingly"
   ]
  },
  {
   "cell_type": "code",
   "execution_count": 68,
   "metadata": {},
   "outputs": [],
   "source": [
    "param_grid = {\n",
    "    'n_estimators':[200,300,400,500],\n",
    "    'max_features':['auto'],\n",
    "    'max_depth':[10,20,30,40,50,None],\n",
    "    'class_weight':['balanced'],\n",
    "    'min_samples_leaf':[10,20,30,40,50],\n",
    "    'min_samples_split': [2,3,4]\n",
    "}"
   ]
  },
  {
   "cell_type": "code",
   "execution_count": 69,
   "metadata": {},
   "outputs": [
    {
     "name": "stdout",
     "output_type": "stream",
     "text": [
      "Fitting 3 folds for each of 10 candidates, totalling 30 fits\n"
     ]
    },
    {
     "name": "stderr",
     "output_type": "stream",
     "text": [
      "[Parallel(n_jobs=-1)]: Using backend LokyBackend with 4 concurrent workers.\n",
      "[Parallel(n_jobs=-1)]: Done  30 out of  30 | elapsed: 142.4min finished\n"
     ]
    },
    {
     "data": {
      "text/plain": [
       "RandomizedSearchCV(cv=3, estimator=RandomForestClassifier(random_state=42),\n",
       "                   n_jobs=-1,\n",
       "                   param_distributions={'class_weight': ['balanced'],\n",
       "                                        'max_depth': [10, 20, 30, 40, 50, None],\n",
       "                                        'max_features': ['auto'],\n",
       "                                        'min_samples_leaf': [10, 20, 30, 40,\n",
       "                                                             50],\n",
       "                                        'min_samples_split': [2, 3, 4],\n",
       "                                        'n_estimators': [200, 300, 400, 500]},\n",
       "                   scoring='roc_auc', verbose=2)"
      ]
     },
     "execution_count": 69,
     "metadata": {},
     "output_type": "execute_result"
    }
   ],
   "source": [
    "CV_rfc = RandomizedSearchCV(estimator=rf,param_distributions=param_grid,cv=3,scoring='roc_auc',n_jobs=-1,n_iter=10,verbose=2)\n",
    "CV_rfc.fit(X_train,y_train)"
   ]
  },
  {
   "cell_type": "code",
   "execution_count": 70,
   "metadata": {},
   "outputs": [
    {
     "name": "stdout",
     "output_type": "stream",
     "text": [
      "{'n_estimators': 500, 'min_samples_split': 3, 'min_samples_leaf': 50, 'max_features': 'auto', 'max_depth': 40, 'class_weight': 'balanced'}\n"
     ]
    }
   ],
   "source": [
    "print(CV_rfc.best_params_)"
   ]
  },
  {
   "cell_type": "code",
   "execution_count": 71,
   "metadata": {},
   "outputs": [
    {
     "data": {
      "text/html": [
       "<div>\n",
       "<style scoped>\n",
       "    .dataframe tbody tr th:only-of-type {\n",
       "        vertical-align: middle;\n",
       "    }\n",
       "\n",
       "    .dataframe tbody tr th {\n",
       "        vertical-align: top;\n",
       "    }\n",
       "\n",
       "    .dataframe thead th {\n",
       "        text-align: right;\n",
       "    }\n",
       "</style>\n",
       "<table border=\"1\" class=\"dataframe\">\n",
       "  <thead>\n",
       "    <tr style=\"text-align: right;\">\n",
       "      <th></th>\n",
       "      <th>mean_fit_time</th>\n",
       "      <th>std_fit_time</th>\n",
       "      <th>mean_score_time</th>\n",
       "      <th>std_score_time</th>\n",
       "      <th>param_n_estimators</th>\n",
       "      <th>param_min_samples_split</th>\n",
       "      <th>param_min_samples_leaf</th>\n",
       "      <th>param_max_features</th>\n",
       "      <th>param_max_depth</th>\n",
       "      <th>param_class_weight</th>\n",
       "      <th>params</th>\n",
       "      <th>split0_test_score</th>\n",
       "      <th>split1_test_score</th>\n",
       "      <th>split2_test_score</th>\n",
       "      <th>mean_test_score</th>\n",
       "      <th>std_test_score</th>\n",
       "      <th>rank_test_score</th>\n",
       "    </tr>\n",
       "  </thead>\n",
       "  <tbody>\n",
       "    <tr>\n",
       "      <th>0</th>\n",
       "      <td>1095.659398</td>\n",
       "      <td>60.426536</td>\n",
       "      <td>17.726981</td>\n",
       "      <td>1.425695</td>\n",
       "      <td>400</td>\n",
       "      <td>3</td>\n",
       "      <td>10</td>\n",
       "      <td>auto</td>\n",
       "      <td>None</td>\n",
       "      <td>balanced</td>\n",
       "      <td>{'n_estimators': 400, 'min_samples_split': 3, ...</td>\n",
       "      <td>0.866538</td>\n",
       "      <td>0.892211</td>\n",
       "      <td>0.817476</td>\n",
       "      <td>0.858742</td>\n",
       "      <td>0.031004</td>\n",
       "      <td>10</td>\n",
       "    </tr>\n",
       "    <tr>\n",
       "      <th>1</th>\n",
       "      <td>1270.316030</td>\n",
       "      <td>61.522934</td>\n",
       "      <td>20.264775</td>\n",
       "      <td>1.111769</td>\n",
       "      <td>500</td>\n",
       "      <td>4</td>\n",
       "      <td>30</td>\n",
       "      <td>auto</td>\n",
       "      <td>30</td>\n",
       "      <td>balanced</td>\n",
       "      <td>{'n_estimators': 500, 'min_samples_split': 4, ...</td>\n",
       "      <td>0.864762</td>\n",
       "      <td>0.891473</td>\n",
       "      <td>0.868385</td>\n",
       "      <td>0.874873</td>\n",
       "      <td>0.011830</td>\n",
       "      <td>4</td>\n",
       "    </tr>\n",
       "    <tr>\n",
       "      <th>2</th>\n",
       "      <td>731.757675</td>\n",
       "      <td>45.592779</td>\n",
       "      <td>11.770445</td>\n",
       "      <td>0.705015</td>\n",
       "      <td>300</td>\n",
       "      <td>2</td>\n",
       "      <td>50</td>\n",
       "      <td>auto</td>\n",
       "      <td>40</td>\n",
       "      <td>balanced</td>\n",
       "      <td>{'n_estimators': 300, 'min_samples_split': 2, ...</td>\n",
       "      <td>0.862327</td>\n",
       "      <td>0.890634</td>\n",
       "      <td>0.877198</td>\n",
       "      <td>0.876720</td>\n",
       "      <td>0.011561</td>\n",
       "      <td>2</td>\n",
       "    </tr>\n",
       "    <tr>\n",
       "      <th>3</th>\n",
       "      <td>789.452992</td>\n",
       "      <td>34.112616</td>\n",
       "      <td>15.147973</td>\n",
       "      <td>0.902009</td>\n",
       "      <td>500</td>\n",
       "      <td>2</td>\n",
       "      <td>20</td>\n",
       "      <td>auto</td>\n",
       "      <td>10</td>\n",
       "      <td>balanced</td>\n",
       "      <td>{'n_estimators': 500, 'min_samples_split': 2, ...</td>\n",
       "      <td>0.854657</td>\n",
       "      <td>0.873306</td>\n",
       "      <td>0.870291</td>\n",
       "      <td>0.866084</td>\n",
       "      <td>0.008174</td>\n",
       "      <td>9</td>\n",
       "    </tr>\n",
       "    <tr>\n",
       "      <th>4</th>\n",
       "      <td>1292.742741</td>\n",
       "      <td>100.996714</td>\n",
       "      <td>22.027869</td>\n",
       "      <td>1.964749</td>\n",
       "      <td>500</td>\n",
       "      <td>2</td>\n",
       "      <td>20</td>\n",
       "      <td>auto</td>\n",
       "      <td>20</td>\n",
       "      <td>balanced</td>\n",
       "      <td>{'n_estimators': 500, 'min_samples_split': 2, ...</td>\n",
       "      <td>0.867390</td>\n",
       "      <td>0.888878</td>\n",
       "      <td>0.857564</td>\n",
       "      <td>0.871277</td>\n",
       "      <td>0.013076</td>\n",
       "      <td>7</td>\n",
       "    </tr>\n",
       "    <tr>\n",
       "      <th>5</th>\n",
       "      <td>916.034147</td>\n",
       "      <td>52.912763</td>\n",
       "      <td>16.806464</td>\n",
       "      <td>0.233117</td>\n",
       "      <td>500</td>\n",
       "      <td>2</td>\n",
       "      <td>10</td>\n",
       "      <td>auto</td>\n",
       "      <td>10</td>\n",
       "      <td>balanced</td>\n",
       "      <td>{'n_estimators': 500, 'min_samples_split': 2, ...</td>\n",
       "      <td>0.856706</td>\n",
       "      <td>0.873003</td>\n",
       "      <td>0.870597</td>\n",
       "      <td>0.866769</td>\n",
       "      <td>0.007183</td>\n",
       "      <td>8</td>\n",
       "    </tr>\n",
       "    <tr>\n",
       "      <th>6</th>\n",
       "      <td>1358.169701</td>\n",
       "      <td>61.784599</td>\n",
       "      <td>20.293722</td>\n",
       "      <td>1.622279</td>\n",
       "      <td>500</td>\n",
       "      <td>3</td>\n",
       "      <td>50</td>\n",
       "      <td>auto</td>\n",
       "      <td>40</td>\n",
       "      <td>balanced</td>\n",
       "      <td>{'n_estimators': 500, 'min_samples_split': 3, ...</td>\n",
       "      <td>0.862424</td>\n",
       "      <td>0.890829</td>\n",
       "      <td>0.877885</td>\n",
       "      <td>0.877046</td>\n",
       "      <td>0.011612</td>\n",
       "      <td>1</td>\n",
       "    </tr>\n",
       "    <tr>\n",
       "      <th>7</th>\n",
       "      <td>1152.751384</td>\n",
       "      <td>95.444196</td>\n",
       "      <td>19.375569</td>\n",
       "      <td>3.021430</td>\n",
       "      <td>400</td>\n",
       "      <td>2</td>\n",
       "      <td>20</td>\n",
       "      <td>auto</td>\n",
       "      <td>None</td>\n",
       "      <td>balanced</td>\n",
       "      <td>{'n_estimators': 400, 'min_samples_split': 2, ...</td>\n",
       "      <td>0.866456</td>\n",
       "      <td>0.893096</td>\n",
       "      <td>0.859422</td>\n",
       "      <td>0.872991</td>\n",
       "      <td>0.014504</td>\n",
       "      <td>6</td>\n",
       "    </tr>\n",
       "    <tr>\n",
       "      <th>8</th>\n",
       "      <td>1081.391231</td>\n",
       "      <td>52.431907</td>\n",
       "      <td>17.132479</td>\n",
       "      <td>0.772214</td>\n",
       "      <td>400</td>\n",
       "      <td>4</td>\n",
       "      <td>30</td>\n",
       "      <td>auto</td>\n",
       "      <td>20</td>\n",
       "      <td>balanced</td>\n",
       "      <td>{'n_estimators': 400, 'min_samples_split': 4, ...</td>\n",
       "      <td>0.865493</td>\n",
       "      <td>0.888990</td>\n",
       "      <td>0.870380</td>\n",
       "      <td>0.874955</td>\n",
       "      <td>0.010123</td>\n",
       "      <td>3</td>\n",
       "    </tr>\n",
       "    <tr>\n",
       "      <th>9</th>\n",
       "      <td>1187.212804</td>\n",
       "      <td>10.210367</td>\n",
       "      <td>17.086365</td>\n",
       "      <td>0.558637</td>\n",
       "      <td>500</td>\n",
       "      <td>3</td>\n",
       "      <td>20</td>\n",
       "      <td>auto</td>\n",
       "      <td>50</td>\n",
       "      <td>balanced</td>\n",
       "      <td>{'n_estimators': 500, 'min_samples_split': 3, ...</td>\n",
       "      <td>0.866378</td>\n",
       "      <td>0.893210</td>\n",
       "      <td>0.860761</td>\n",
       "      <td>0.873450</td>\n",
       "      <td>0.014159</td>\n",
       "      <td>5</td>\n",
       "    </tr>\n",
       "  </tbody>\n",
       "</table>\n",
       "</div>"
      ],
      "text/plain": [
       "   mean_fit_time  std_fit_time  mean_score_time  std_score_time  \\\n",
       "0    1095.659398     60.426536        17.726981        1.425695   \n",
       "1    1270.316030     61.522934        20.264775        1.111769   \n",
       "2     731.757675     45.592779        11.770445        0.705015   \n",
       "3     789.452992     34.112616        15.147973        0.902009   \n",
       "4    1292.742741    100.996714        22.027869        1.964749   \n",
       "5     916.034147     52.912763        16.806464        0.233117   \n",
       "6    1358.169701     61.784599        20.293722        1.622279   \n",
       "7    1152.751384     95.444196        19.375569        3.021430   \n",
       "8    1081.391231     52.431907        17.132479        0.772214   \n",
       "9    1187.212804     10.210367        17.086365        0.558637   \n",
       "\n",
       "  param_n_estimators param_min_samples_split param_min_samples_leaf  \\\n",
       "0                400                       3                     10   \n",
       "1                500                       4                     30   \n",
       "2                300                       2                     50   \n",
       "3                500                       2                     20   \n",
       "4                500                       2                     20   \n",
       "5                500                       2                     10   \n",
       "6                500                       3                     50   \n",
       "7                400                       2                     20   \n",
       "8                400                       4                     30   \n",
       "9                500                       3                     20   \n",
       "\n",
       "  param_max_features param_max_depth param_class_weight  \\\n",
       "0               auto            None           balanced   \n",
       "1               auto              30           balanced   \n",
       "2               auto              40           balanced   \n",
       "3               auto              10           balanced   \n",
       "4               auto              20           balanced   \n",
       "5               auto              10           balanced   \n",
       "6               auto              40           balanced   \n",
       "7               auto            None           balanced   \n",
       "8               auto              20           balanced   \n",
       "9               auto              50           balanced   \n",
       "\n",
       "                                              params  split0_test_score  \\\n",
       "0  {'n_estimators': 400, 'min_samples_split': 3, ...           0.866538   \n",
       "1  {'n_estimators': 500, 'min_samples_split': 4, ...           0.864762   \n",
       "2  {'n_estimators': 300, 'min_samples_split': 2, ...           0.862327   \n",
       "3  {'n_estimators': 500, 'min_samples_split': 2, ...           0.854657   \n",
       "4  {'n_estimators': 500, 'min_samples_split': 2, ...           0.867390   \n",
       "5  {'n_estimators': 500, 'min_samples_split': 2, ...           0.856706   \n",
       "6  {'n_estimators': 500, 'min_samples_split': 3, ...           0.862424   \n",
       "7  {'n_estimators': 400, 'min_samples_split': 2, ...           0.866456   \n",
       "8  {'n_estimators': 400, 'min_samples_split': 4, ...           0.865493   \n",
       "9  {'n_estimators': 500, 'min_samples_split': 3, ...           0.866378   \n",
       "\n",
       "   split1_test_score  split2_test_score  mean_test_score  std_test_score  \\\n",
       "0           0.892211           0.817476         0.858742        0.031004   \n",
       "1           0.891473           0.868385         0.874873        0.011830   \n",
       "2           0.890634           0.877198         0.876720        0.011561   \n",
       "3           0.873306           0.870291         0.866084        0.008174   \n",
       "4           0.888878           0.857564         0.871277        0.013076   \n",
       "5           0.873003           0.870597         0.866769        0.007183   \n",
       "6           0.890829           0.877885         0.877046        0.011612   \n",
       "7           0.893096           0.859422         0.872991        0.014504   \n",
       "8           0.888990           0.870380         0.874955        0.010123   \n",
       "9           0.893210           0.860761         0.873450        0.014159   \n",
       "\n",
       "   rank_test_score  \n",
       "0               10  \n",
       "1                4  \n",
       "2                2  \n",
       "3                9  \n",
       "4                7  \n",
       "5                8  \n",
       "6                1  \n",
       "7                6  \n",
       "8                3  \n",
       "9                5  "
      ]
     },
     "execution_count": 71,
     "metadata": {},
     "output_type": "execute_result"
    }
   ],
   "source": [
    "cv_result = CV_rfc.cv_results_\n",
    "output = pd.DataFrame(cv_result)\n",
    "output.head(10)"
   ]
  },
  {
   "cell_type": "code",
   "execution_count": null,
   "metadata": {},
   "outputs": [],
   "source": [
    "## train and test split using stratify as data is highly imbalanced"
   ]
  },
  {
   "cell_type": "code",
   "execution_count": 72,
   "metadata": {},
   "outputs": [
    {
     "name": "stdout",
     "output_type": "stream",
     "text": [
      "(265743, 298) (88581, 298) (265743,) (88581,)\n"
     ]
    }
   ],
   "source": [
    "from sklearn.model_selection import train_test_split\n",
    "X_train1, X_test1, y_train1, y_test1 = train_test_split(X_train, y_train, test_size=0.25,stratify = y_train)\n",
    "print(X_train1.shape, X_test1.shape, y_train1.shape, y_test1.shape)"
   ]
  },
  {
   "cell_type": "code",
   "execution_count": null,
   "metadata": {},
   "outputs": [],
   "source": [
    "# predicting output using decision Tree with best parameters on split data"
   ]
  },
  {
   "cell_type": "code",
   "execution_count": 73,
   "metadata": {},
   "outputs": [
    {
     "data": {
      "text/plain": [
       "RandomForestClassifier(class_weight='balanced', max_depth=40,\n",
       "                       min_samples_leaf=50, min_samples_split=3,\n",
       "                       n_estimators=500, n_jobs=-1)"
      ]
     },
     "execution_count": 73,
     "metadata": {},
     "output_type": "execute_result"
    }
   ],
   "source": [
    "\n",
    "model = RandomForestClassifier(n_estimators=500, min_samples_leaf=50,min_samples_split= 3,max_depth= 40, n_jobs=-1,class_weight='balanced')\n",
    "model.fit(X_train1, y_train1)  "
   ]
  },
  {
   "cell_type": "code",
   "execution_count": 74,
   "metadata": {},
   "outputs": [],
   "source": [
    "predprobs = model.predict_proba(X_test1)\n",
    "predprobs = predprobs[:,1]"
   ]
  },
  {
   "cell_type": "code",
   "execution_count": null,
   "metadata": {},
   "outputs": [],
   "source": [
    "# plotting Roc curve"
   ]
  },
  {
   "cell_type": "code",
   "execution_count": 75,
   "metadata": {},
   "outputs": [
    {
     "name": "stdout",
     "output_type": "stream",
     "text": [
      "Random Trees: ROC AUC=0.908\n"
     ]
    },
    {
     "data": {
      "image/png": "[encoded data removed]",
      "text/plain": [
       "<Figure size 432x288 with 1 Axes>"
      ]
     },
     "metadata": {
      "needs_background": "light"
     },
     "output_type": "display_data"
    }
   ],
   "source": [
    "lr_auc = roc_auc_score(y_test1, predprobs)\n",
    "# summarize scores\n",
    "\n",
    "print('Random Trees: ROC AUC=%.3f' % (lr_auc))\n",
    "# calculate roc curves\n",
    "\n",
    "lr_fpr, lr_tpr, _ = roc_curve(y_test1, predprobs)\n",
    "# plot the roc curve for the model\n",
    "\n",
    "pyplot.plot(lr_fpr, lr_tpr, marker='.', label='Logistic')\n",
    "# axis labels\n",
    "pyplot.xlabel('False Positive Rate')\n",
    "pyplot.ylabel('True Positive Rate')\n",
    "# show the legend\n",
    "pyplot.legend()\n",
    "# show the plot\n",
    "pyplot.show()"
   ]
  },
  {
   "cell_type": "code",
   "execution_count": null,
   "metadata": {},
   "outputs": [],
   "source": [
    "# predicting output using entire training dataset using best parameters"
   ]
  },
  {
   "cell_type": "code",
   "execution_count": 76,
   "metadata": {},
   "outputs": [],
   "source": [
    "predprobs = CV_rfc.predict_proba(X_test)\n",
    "predprobs = predprobs[:,1]"
   ]
  },
  {
   "cell_type": "code",
   "execution_count": 77,
   "metadata": {},
   "outputs": [
    {
     "data": {
      "text/html": [
       "<div>\n",
       "<style scoped>\n",
       "    .dataframe tbody tr th:only-of-type {\n",
       "        vertical-align: middle;\n",
       "    }\n",
       "\n",
       "    .dataframe tbody tr th {\n",
       "        vertical-align: top;\n",
       "    }\n",
       "\n",
       "    .dataframe thead th {\n",
       "        text-align: right;\n",
       "    }\n",
       "</style>\n",
       "<table border=\"1\" class=\"dataframe\">\n",
       "  <thead>\n",
       "    <tr style=\"text-align: right;\">\n",
       "      <th></th>\n",
       "      <th>TransactionID</th>\n",
       "      <th>isFraud</th>\n",
       "    </tr>\n",
       "  </thead>\n",
       "  <tbody>\n",
       "    <tr>\n",
       "      <th>0</th>\n",
       "      <td>2987000</td>\n",
       "      <td>0.415088</td>\n",
       "    </tr>\n",
       "    <tr>\n",
       "      <th>1</th>\n",
       "      <td>2987001</td>\n",
       "      <td>0.256669</td>\n",
       "    </tr>\n",
       "    <tr>\n",
       "      <th>2</th>\n",
       "      <td>2987004</td>\n",
       "      <td>0.041147</td>\n",
       "    </tr>\n",
       "    <tr>\n",
       "      <th>3</th>\n",
       "      <td>2987007</td>\n",
       "      <td>0.286950</td>\n",
       "    </tr>\n",
       "    <tr>\n",
       "      <th>4</th>\n",
       "      <td>2987009</td>\n",
       "      <td>0.182346</td>\n",
       "    </tr>\n",
       "  </tbody>\n",
       "</table>\n",
       "</div>"
      ],
      "text/plain": [
       "   TransactionID   isFraud\n",
       "0        2987000  0.415088\n",
       "1        2987001  0.256669\n",
       "2        2987004  0.041147\n",
       "3        2987007  0.286950\n",
       "4        2987009  0.182346"
      ]
     },
     "execution_count": 77,
     "metadata": {},
     "output_type": "execute_result"
    }
   ],
   "source": [
    "submission = pd.DataFrame({'TransactionID':k,'isFraud':predprobs})\n",
    "submission.head()"
   ]
  },
  {
   "cell_type": "code",
   "execution_count": 78,
   "metadata": {},
   "outputs": [
    {
     "name": "stdout",
     "output_type": "stream",
     "text": [
      "Saved file: new_sub4.csv\n"
     ]
    }
   ],
   "source": [
    "filename = 'new_sub4.csv'\n",
    "submission.to_csv(filename,index=False)\n",
    "print('Saved file: ' + filename)"
   ]
  },
  {
   "cell_type": "code",
   "execution_count": null,
   "metadata": {},
   "outputs": [],
   "source": [
    "## output --- roc curve on test data == 0.908"
   ]
  }
 ],
 "metadata": {
  "kernelspec": {
   "display_name": "Python 3",
   "language": "python",
   "name": "python3"
  },
  "language_info": {
   "codemirror_mode": {
    "name": "ipython",
    "version": 3
   },
   "file_extension": ".py",
   "mimetype": "text/x-python",
   "name": "python",
   "nbconvert_exporter": "python",
   "pygments_lexer": "ipython3",
   "version": "3.8.3"
  }
 },
 "nbformat": 4,
 "nbformat_minor": 4
}
